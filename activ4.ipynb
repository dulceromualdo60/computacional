{
 "cells": [
  {
   "cell_type": "code",
   "execution_count": 1,
   "metadata": {
    "collapsed": true
   },
   "outputs": [],
   "source": [
    "\n",
    "\n",
    "#importamos las librerias que utilizaremos\n",
    "import pandas as pd\n",
    "import numpy as np\n",
    "import matplotlib.pyplot as plt\n",
    "import seaborn as sns\n",
    "import calendar\n",
    "\n"
   ]
  },
  {
   "cell_type": "code",
   "execution_count": 7,
   "metadata": {
    "collapsed": true
   },
   "outputs": [],
   "source": [
    "df0 = pd.read_csv('bk.txt', sep='\\s+')"
   ]
  },
  {
   "cell_type": "code",
   "execution_count": 8,
   "metadata": {},
   "outputs": [],
   "source": [
    "df0 = pd.read_csv(\"bk.txt\", sep=\"\\s+\", skiprows=20, skipfooter=1, engine='python', \n",
    "                  names=['Fecha', 'Precip', 'Evap', 'Tmax', 'Tmin'])\n",
    "\n"
   ]
  },
  {
   "cell_type": "code",
   "execution_count": 9,
   "metadata": {
    "collapsed": true
   },
   "outputs": [],
   "source": [
    "# cambiamos la columna fecha a variable\n",
    "\n",
    "df0['NFecha'] =  pd.to_datetime(df0['Fecha'], format='%d/%m/%Y')\n",
    "\n"
   ]
  },
  {
   "cell_type": "code",
   "execution_count": 10,
   "metadata": {},
   "outputs": [
    {
     "data": {
      "text/plain": [
       "Fecha             object\n",
       "Precip            object\n",
       "Evap              object\n",
       "Tmax              object\n",
       "Tmin              object\n",
       "NFecha    datetime64[ns]\n",
       "dtype: object"
      ]
     },
     "execution_count": 10,
     "metadata": {},
     "output_type": "execute_result"
    }
   ],
   "source": [
    "\n",
    "\n",
    "df0.dtypes\n",
    "\n"
   ]
  },
  {
   "cell_type": "code",
   "execution_count": 11,
   "metadata": {},
   "outputs": [
    {
     "data": {
      "text/plain": [
       "Precip           float64\n",
       "Evap             float64\n",
       "Tmax             float64\n",
       "Tmin             float64\n",
       "NFecha    datetime64[ns]\n",
       "dtype: object"
      ]
     },
     "execution_count": 11,
     "metadata": {},
     "output_type": "execute_result"
    }
   ],
   "source": [
    "# cambiamos las columnas Precip, Evap, Tmax, Tmin a variables flotantes\n",
    "\n",
    "df0[['Precip','Evap','Tmax','Tmin']] = df0[['Precip','Evap','Tmax','Tmin']] \\\n",
    ".apply(pd.to_numeric, errors='coerce')\n",
    "df0 = df0.drop('Fecha', 1)\n",
    "df0.dtypes\n",
    "\n"
   ]
  },
  {
   "cell_type": "code",
   "execution_count": 14,
   "metadata": {},
   "outputs": [
    {
     "data": {
      "text/plain": [
       "(   Precip  Evap  Tmax  Tmin     NFecha   Año  Mes\n",
       " 0     0.0   NaN  31.5  24.0 1974-07-20  1974    7\n",
       " 1     0.0   8.8  32.0  27.0 1974-07-21  1974    7\n",
       " 2     0.0   7.2  32.0  27.0 1974-07-22  1974    7\n",
       " 3     0.0   8.7  33.0  26.0 1974-07-23  1974    7\n",
       " 4     0.0   7.5  32.5  27.0 1974-07-24  1974    7,\n",
       "       Precip  Evap  Tmax  Tmin     NFecha   Año  Mes\n",
       " 6611     0.0   9.4  34.0  24.0 2011-07-27  2011    7\n",
       " 6612     0.0   7.0  33.5  24.5 2011-07-28  2011    7\n",
       " 6613     0.0   7.6  33.0  25.5 2011-07-29  2011    7\n",
       " 6614     0.0   8.1  36.0  25.5 2011-07-30  2011    7\n",
       " 6615     0.0   NaN   NaN  27.5 2011-07-31  2011    7)"
      ]
     },
     "execution_count": 14,
     "metadata": {},
     "output_type": "execute_result"
    }
   ],
   "source": [
    "# Creamos columnas por año y mes extraidos de columna fecha\n",
    "\n",
    "df0['Año'] = df0['NFecha'].dt.year\n",
    "df0['Mes'] = df0['NFecha'].dt.month\n",
    "\n",
    "df0.head(), df0.tail()\n",
    "\n"
   ]
  },
  {
   "cell_type": "code",
   "execution_count": 15,
   "metadata": {},
   "outputs": [
    {
     "name": "stdout",
     "output_type": "stream",
     "text": [
      "24 años de datos\n"
     ]
    }
   ],
   "source": [
    "# años distintos df0['Año'].unique(),\n",
    "# Imprimimos numero de años de datos, ya contados con el arreglo NumA.\n",
    "NumA = len(df0['Año'].unique())\n",
    "print(NumA, \"años de datos\")"
   ]
  },
  {
   "cell_type": "code",
   "execution_count": 18,
   "metadata": {},
   "outputs": [
    {
     "data": {
      "text/html": [
       "<div>\n",
       "<style>\n",
       "    .dataframe thead tr:only-child th {\n",
       "        text-align: right;\n",
       "    }\n",
       "\n",
       "    .dataframe thead th {\n",
       "        text-align: left;\n",
       "    }\n",
       "\n",
       "    .dataframe tbody tr th {\n",
       "        vertical-align: top;\n",
       "    }\n",
       "</style>\n",
       "<table border=\"1\" class=\"dataframe\">\n",
       "  <thead>\n",
       "    <tr style=\"text-align: right;\">\n",
       "      <th></th>\n",
       "      <th>Mes</th>\n",
       "      <th>Precip.Prom</th>\n",
       "      <th>Tmax.Prom</th>\n",
       "      <th>Tmin.Prom</th>\n",
       "    </tr>\n",
       "  </thead>\n",
       "  <tbody>\n",
       "    <tr>\n",
       "      <th>0</th>\n",
       "      <td>1</td>\n",
       "      <td>7.508333</td>\n",
       "      <td>19.702471</td>\n",
       "      <td>6.594286</td>\n",
       "    </tr>\n",
       "    <tr>\n",
       "      <th>1</th>\n",
       "      <td>2</td>\n",
       "      <td>5.166667</td>\n",
       "      <td>21.462598</td>\n",
       "      <td>7.166864</td>\n",
       "    </tr>\n",
       "    <tr>\n",
       "      <th>2</th>\n",
       "      <td>3</td>\n",
       "      <td>1.750000</td>\n",
       "      <td>22.931542</td>\n",
       "      <td>8.585492</td>\n",
       "    </tr>\n",
       "    <tr>\n",
       "      <th>3</th>\n",
       "      <td>4</td>\n",
       "      <td>0.666667</td>\n",
       "      <td>25.518492</td>\n",
       "      <td>10.700719</td>\n",
       "    </tr>\n",
       "    <tr>\n",
       "      <th>4</th>\n",
       "      <td>5</td>\n",
       "      <td>0.291667</td>\n",
       "      <td>28.093137</td>\n",
       "      <td>13.230392</td>\n",
       "    </tr>\n",
       "    <tr>\n",
       "      <th>5</th>\n",
       "      <td>6</td>\n",
       "      <td>1.208333</td>\n",
       "      <td>31.985887</td>\n",
       "      <td>18.229839</td>\n",
       "    </tr>\n",
       "    <tr>\n",
       "      <th>6</th>\n",
       "      <td>7</td>\n",
       "      <td>11.604167</td>\n",
       "      <td>33.015206</td>\n",
       "      <td>23.700000</td>\n",
       "    </tr>\n",
       "    <tr>\n",
       "      <th>7</th>\n",
       "      <td>8</td>\n",
       "      <td>27.808333</td>\n",
       "      <td>33.827075</td>\n",
       "      <td>23.788538</td>\n",
       "    </tr>\n",
       "    <tr>\n",
       "      <th>8</th>\n",
       "      <td>9</td>\n",
       "      <td>16.179167</td>\n",
       "      <td>33.129529</td>\n",
       "      <td>21.980000</td>\n",
       "    </tr>\n",
       "    <tr>\n",
       "      <th>9</th>\n",
       "      <td>10</td>\n",
       "      <td>7.983333</td>\n",
       "      <td>29.516608</td>\n",
       "      <td>15.895288</td>\n",
       "    </tr>\n",
       "    <tr>\n",
       "      <th>10</th>\n",
       "      <td>11</td>\n",
       "      <td>3.575000</td>\n",
       "      <td>24.323301</td>\n",
       "      <td>9.859496</td>\n",
       "    </tr>\n",
       "    <tr>\n",
       "      <th>11</th>\n",
       "      <td>12</td>\n",
       "      <td>13.287500</td>\n",
       "      <td>20.902263</td>\n",
       "      <td>6.888090</td>\n",
       "    </tr>\n",
       "  </tbody>\n",
       "</table>\n",
       "</div>"
      ],
      "text/plain": [
       "    Mes  Precip.Prom  Tmax.Prom  Tmin.Prom\n",
       "0     1     7.508333  19.702471   6.594286\n",
       "1     2     5.166667  21.462598   7.166864\n",
       "2     3     1.750000  22.931542   8.585492\n",
       "3     4     0.666667  25.518492  10.700719\n",
       "4     5     0.291667  28.093137  13.230392\n",
       "5     6     1.208333  31.985887  18.229839\n",
       "6     7    11.604167  33.015206  23.700000\n",
       "7     8    27.808333  33.827075  23.788538\n",
       "8     9    16.179167  33.129529  21.980000\n",
       "9    10     7.983333  29.516608  15.895288\n",
       "10   11     3.575000  24.323301   9.859496\n",
       "11   12    13.287500  20.902263   6.888090"
      ]
     },
     "execution_count": 18,
     "metadata": {},
     "output_type": "execute_result"
    }
   ],
   "source": [
    "# Cremos tabla de meses y promedio de datos mensuales de las precipitaciones y temperaturas.\n",
    "init = 1\n",
    "Meses = [init + i for i in range(0, 12)]\n",
    "\n",
    "# precipitaciones.\n",
    "PreipitacionesMens = [df0[df0.Mes==(init + i)].Precip.sum()/NumA for i in range (0,12)]\n",
    "\n",
    "# Temperatura maxima.\n",
    "TmaxMens = [df0[df0.Mes==(init + i)].Tmax.mean() for i in range (0,12)]\n",
    "\n",
    "# Temperatura minima.\n",
    "TminMens = [df0[df0.Mes==(init + i)].Tmin.mean() for i in range (0,12)]\n",
    "\n",
    "# Tabla para los promedios mensuales.\n",
    "dat_mens= {'Mes': Meses, 'Precip.Prom': PreipitacionesMens, 'Tmax.Prom': TmaxMens, 'Tmin.Prom': TminMens}\n",
    "df0_mensual = pd.DataFrame(data=dat_mens)\n",
    "df0_mensual\n",
    "\n",
    "#En la tabla que se genera, vdescartamos la primera columna de datos ya que son el contador de Python."
   ]
  },
  {
   "cell_type": "code",
   "execution_count": 19,
   "metadata": {},
   "outputs": [
    {
     "data": {
      "image/png": "[encoded data removed]",
      "text/plain": [
       "<matplotlib.figure.Figure at 0x7fb99dcac2e8>"
      ]
     },
     "metadata": {},
     "output_type": "display_data"
    }
   ],
   "source": [
    "\n",
    "\n",
    "#Gráfica de barras de la precipitacion promedio acumulada por mes.\n",
    "Mns = calendar.month_name[1:13] \n",
    "\n",
    "#Calculamos el ancho óptimo.\n",
    "width = np.min(np.diff(Meses))/3\n",
    "\n",
    "#Grafica\n",
    "plt.bar(Meses-width, PreipitacionesMens, width, align='center', alpha=0.5, color= \"G\")\n",
    "plt.xticks(Meses-width, Mns, size = 'small', color = 'K', rotation = 90)\n",
    "plt.ylabel('Precipitación (mm)')\n",
    "plt.title('Precipitación promedio acumulada por mes. (1974-2011)')\n",
    "plt.legend(('PMENSUAL'),frameon=False,loc='upper left')\n",
    "plt.savefig('precipromensual',plt=2000)\n",
    "plt.show()\n",
    "\n"
   ]
  },
  {
   "cell_type": "code",
   "execution_count": 21,
   "metadata": {},
   "outputs": [
    {
     "data": {
      "text/html": [
       "<div>\n",
       "<style>\n",
       "    .dataframe thead tr:only-child th {\n",
       "        text-align: right;\n",
       "    }\n",
       "\n",
       "    .dataframe thead th {\n",
       "        text-align: left;\n",
       "    }\n",
       "\n",
       "    .dataframe tbody tr th {\n",
       "        vertical-align: top;\n",
       "    }\n",
       "</style>\n",
       "<table border=\"1\" class=\"dataframe\">\n",
       "  <thead>\n",
       "    <tr style=\"text-align: right;\">\n",
       "      <th></th>\n",
       "      <th>Año</th>\n",
       "      <th>Precip.Prom</th>\n",
       "      <th>Tmax.Prom</th>\n",
       "      <th>Tmin.Prom</th>\n",
       "    </tr>\n",
       "  </thead>\n",
       "  <tbody>\n",
       "    <tr>\n",
       "      <th>0</th>\n",
       "      <td>1974</td>\n",
       "      <td>2.000000</td>\n",
       "      <td>29.415152</td>\n",
       "      <td>16.218182</td>\n",
       "    </tr>\n",
       "    <tr>\n",
       "      <th>1</th>\n",
       "      <td>1975</td>\n",
       "      <td>2.329167</td>\n",
       "      <td>27.878356</td>\n",
       "      <td>11.665753</td>\n",
       "    </tr>\n",
       "    <tr>\n",
       "      <th>2</th>\n",
       "      <td>1976</td>\n",
       "      <td>4.454167</td>\n",
       "      <td>29.464208</td>\n",
       "      <td>11.624590</td>\n",
       "    </tr>\n",
       "    <tr>\n",
       "      <th>3</th>\n",
       "      <td>1977</td>\n",
       "      <td>4.362500</td>\n",
       "      <td>27.165753</td>\n",
       "      <td>14.726301</td>\n",
       "    </tr>\n",
       "    <tr>\n",
       "      <th>4</th>\n",
       "      <td>1978</td>\n",
       "      <td>2.250000</td>\n",
       "      <td>27.763158</td>\n",
       "      <td>13.870044</td>\n",
       "    </tr>\n",
       "    <tr>\n",
       "      <th>5</th>\n",
       "      <td>1979</td>\n",
       "      <td>1.791667</td>\n",
       "      <td>26.723214</td>\n",
       "      <td>13.031250</td>\n",
       "    </tr>\n",
       "    <tr>\n",
       "      <th>6</th>\n",
       "      <td>1980</td>\n",
       "      <td>2.895833</td>\n",
       "      <td>27.898907</td>\n",
       "      <td>15.159836</td>\n",
       "    </tr>\n",
       "    <tr>\n",
       "      <th>7</th>\n",
       "      <td>1981</td>\n",
       "      <td>3.791667</td>\n",
       "      <td>26.642466</td>\n",
       "      <td>14.782192</td>\n",
       "    </tr>\n",
       "    <tr>\n",
       "      <th>8</th>\n",
       "      <td>1982</td>\n",
       "      <td>6.395833</td>\n",
       "      <td>26.102210</td>\n",
       "      <td>14.317680</td>\n",
       "    </tr>\n",
       "    <tr>\n",
       "      <th>9</th>\n",
       "      <td>1983</td>\n",
       "      <td>8.925000</td>\n",
       "      <td>26.495509</td>\n",
       "      <td>13.706587</td>\n",
       "    </tr>\n",
       "    <tr>\n",
       "      <th>10</th>\n",
       "      <td>1984</td>\n",
       "      <td>10.995833</td>\n",
       "      <td>27.337432</td>\n",
       "      <td>13.788251</td>\n",
       "    </tr>\n",
       "    <tr>\n",
       "      <th>11</th>\n",
       "      <td>1985</td>\n",
       "      <td>2.208333</td>\n",
       "      <td>26.106849</td>\n",
       "      <td>13.394521</td>\n",
       "    </tr>\n",
       "    <tr>\n",
       "      <th>12</th>\n",
       "      <td>1986</td>\n",
       "      <td>0.375000</td>\n",
       "      <td>26.550725</td>\n",
       "      <td>14.265700</td>\n",
       "    </tr>\n",
       "    <tr>\n",
       "      <th>13</th>\n",
       "      <td>1987</td>\n",
       "      <td>0.000000</td>\n",
       "      <td>NaN</td>\n",
       "      <td>NaN</td>\n",
       "    </tr>\n",
       "    <tr>\n",
       "      <th>14</th>\n",
       "      <td>1988</td>\n",
       "      <td>3.833333</td>\n",
       "      <td>27.180328</td>\n",
       "      <td>15.651639</td>\n",
       "    </tr>\n",
       "    <tr>\n",
       "      <th>15</th>\n",
       "      <td>1989</td>\n",
       "      <td>1.416667</td>\n",
       "      <td>23.270386</td>\n",
       "      <td>9.360515</td>\n",
       "    </tr>\n",
       "    <tr>\n",
       "      <th>16</th>\n",
       "      <td>1990</td>\n",
       "      <td>6.625000</td>\n",
       "      <td>26.952381</td>\n",
       "      <td>14.043956</td>\n",
       "    </tr>\n",
       "    <tr>\n",
       "      <th>17</th>\n",
       "      <td>1991</td>\n",
       "      <td>6.875000</td>\n",
       "      <td>26.000000</td>\n",
       "      <td>13.208219</td>\n",
       "    </tr>\n",
       "    <tr>\n",
       "      <th>18</th>\n",
       "      <td>1992</td>\n",
       "      <td>11.625000</td>\n",
       "      <td>27.532895</td>\n",
       "      <td>14.677632</td>\n",
       "    </tr>\n",
       "    <tr>\n",
       "      <th>19</th>\n",
       "      <td>1993</td>\n",
       "      <td>6.166667</td>\n",
       "      <td>26.591549</td>\n",
       "      <td>14.177465</td>\n",
       "    </tr>\n",
       "    <tr>\n",
       "      <th>20</th>\n",
       "      <td>1994</td>\n",
       "      <td>0.000000</td>\n",
       "      <td>20.142857</td>\n",
       "      <td>4.625000</td>\n",
       "    </tr>\n",
       "    <tr>\n",
       "      <th>21</th>\n",
       "      <td>1995</td>\n",
       "      <td>0.000000</td>\n",
       "      <td>NaN</td>\n",
       "      <td>NaN</td>\n",
       "    </tr>\n",
       "    <tr>\n",
       "      <th>22</th>\n",
       "      <td>1996</td>\n",
       "      <td>0.000000</td>\n",
       "      <td>NaN</td>\n",
       "      <td>NaN</td>\n",
       "    </tr>\n",
       "    <tr>\n",
       "      <th>23</th>\n",
       "      <td>1997</td>\n",
       "      <td>0.000000</td>\n",
       "      <td>NaN</td>\n",
       "      <td>NaN</td>\n",
       "    </tr>\n",
       "    <tr>\n",
       "      <th>24</th>\n",
       "      <td>1998</td>\n",
       "      <td>0.000000</td>\n",
       "      <td>NaN</td>\n",
       "      <td>NaN</td>\n",
       "    </tr>\n",
       "    <tr>\n",
       "      <th>25</th>\n",
       "      <td>1999</td>\n",
       "      <td>0.000000</td>\n",
       "      <td>NaN</td>\n",
       "      <td>NaN</td>\n",
       "    </tr>\n",
       "    <tr>\n",
       "      <th>26</th>\n",
       "      <td>2000</td>\n",
       "      <td>0.000000</td>\n",
       "      <td>NaN</td>\n",
       "      <td>NaN</td>\n",
       "    </tr>\n",
       "    <tr>\n",
       "      <th>27</th>\n",
       "      <td>2001</td>\n",
       "      <td>0.000000</td>\n",
       "      <td>NaN</td>\n",
       "      <td>NaN</td>\n",
       "    </tr>\n",
       "    <tr>\n",
       "      <th>28</th>\n",
       "      <td>2002</td>\n",
       "      <td>0.000000</td>\n",
       "      <td>NaN</td>\n",
       "      <td>NaN</td>\n",
       "    </tr>\n",
       "    <tr>\n",
       "      <th>29</th>\n",
       "      <td>2003</td>\n",
       "      <td>0.000000</td>\n",
       "      <td>NaN</td>\n",
       "      <td>NaN</td>\n",
       "    </tr>\n",
       "    <tr>\n",
       "      <th>30</th>\n",
       "      <td>2004</td>\n",
       "      <td>0.000000</td>\n",
       "      <td>NaN</td>\n",
       "      <td>NaN</td>\n",
       "    </tr>\n",
       "    <tr>\n",
       "      <th>31</th>\n",
       "      <td>2005</td>\n",
       "      <td>0.000000</td>\n",
       "      <td>NaN</td>\n",
       "      <td>NaN</td>\n",
       "    </tr>\n",
       "    <tr>\n",
       "      <th>32</th>\n",
       "      <td>2006</td>\n",
       "      <td>0.000000</td>\n",
       "      <td>NaN</td>\n",
       "      <td>NaN</td>\n",
       "    </tr>\n",
       "    <tr>\n",
       "      <th>33</th>\n",
       "      <td>2007</td>\n",
       "      <td>6.004167</td>\n",
       "      <td>29.316342</td>\n",
       "      <td>17.761719</td>\n",
       "    </tr>\n",
       "    <tr>\n",
       "      <th>34</th>\n",
       "      <td>2008</td>\n",
       "      <td>1.233333</td>\n",
       "      <td>27.756039</td>\n",
       "      <td>15.826087</td>\n",
       "    </tr>\n",
       "    <tr>\n",
       "      <th>35</th>\n",
       "      <td>2009</td>\n",
       "      <td>0.000000</td>\n",
       "      <td>NaN</td>\n",
       "      <td>NaN</td>\n",
       "    </tr>\n",
       "    <tr>\n",
       "      <th>36</th>\n",
       "      <td>2010</td>\n",
       "      <td>0.000000</td>\n",
       "      <td>27.470930</td>\n",
       "      <td>14.764368</td>\n",
       "    </tr>\n",
       "    <tr>\n",
       "      <th>37</th>\n",
       "      <td>2011</td>\n",
       "      <td>0.475000</td>\n",
       "      <td>25.955882</td>\n",
       "      <td>12.020588</td>\n",
       "    </tr>\n",
       "  </tbody>\n",
       "</table>\n",
       "</div>"
      ],
      "text/plain": [
       "     Año  Precip.Prom  Tmax.Prom  Tmin.Prom\n",
       "0   1974     2.000000  29.415152  16.218182\n",
       "1   1975     2.329167  27.878356  11.665753\n",
       "2   1976     4.454167  29.464208  11.624590\n",
       "3   1977     4.362500  27.165753  14.726301\n",
       "4   1978     2.250000  27.763158  13.870044\n",
       "5   1979     1.791667  26.723214  13.031250\n",
       "6   1980     2.895833  27.898907  15.159836\n",
       "7   1981     3.791667  26.642466  14.782192\n",
       "8   1982     6.395833  26.102210  14.317680\n",
       "9   1983     8.925000  26.495509  13.706587\n",
       "10  1984    10.995833  27.337432  13.788251\n",
       "11  1985     2.208333  26.106849  13.394521\n",
       "12  1986     0.375000  26.550725  14.265700\n",
       "13  1987     0.000000        NaN        NaN\n",
       "14  1988     3.833333  27.180328  15.651639\n",
       "15  1989     1.416667  23.270386   9.360515\n",
       "16  1990     6.625000  26.952381  14.043956\n",
       "17  1991     6.875000  26.000000  13.208219\n",
       "18  1992    11.625000  27.532895  14.677632\n",
       "19  1993     6.166667  26.591549  14.177465\n",
       "20  1994     0.000000  20.142857   4.625000\n",
       "21  1995     0.000000        NaN        NaN\n",
       "22  1996     0.000000        NaN        NaN\n",
       "23  1997     0.000000        NaN        NaN\n",
       "24  1998     0.000000        NaN        NaN\n",
       "25  1999     0.000000        NaN        NaN\n",
       "26  2000     0.000000        NaN        NaN\n",
       "27  2001     0.000000        NaN        NaN\n",
       "28  2002     0.000000        NaN        NaN\n",
       "29  2003     0.000000        NaN        NaN\n",
       "30  2004     0.000000        NaN        NaN\n",
       "31  2005     0.000000        NaN        NaN\n",
       "32  2006     0.000000        NaN        NaN\n",
       "33  2007     6.004167  29.316342  17.761719\n",
       "34  2008     1.233333  27.756039  15.826087\n",
       "35  2009     0.000000        NaN        NaN\n",
       "36  2010     0.000000  27.470930  14.764368\n",
       "37  2011     0.475000  25.955882  12.020588"
      ]
     },
     "execution_count": 21,
     "metadata": {},
     "output_type": "execute_result"
    }
   ],
   "source": [
    "\n",
    "\n",
    "# Tabla de meses y promedio de datos mensuales de las precipitaciones y temperaturas.\n",
    "\n",
    "Años = [i + 1 for i in range(1973, 2011)]\n",
    "\n",
    "#Arreglo para precipitaciones.\n",
    "PreipitacionesAño = [df0[df0.Año==(init + i)].Precip.sum()/NumA for i in range (1973,2011)]\n",
    "\n",
    "#Arreglo para Temperatura maxima.\n",
    "TmaxAño = [df0[df0.Año==(init + i)].Tmax.mean() for i in range (1973,2011)]\n",
    "\n",
    "#Arreglo para Temperatura minima.\n",
    "TminAño = [df0[df0.Año==(init + i)].Tmin.mean() for i in range (1973,2011)]\n",
    "\n",
    "# Tabla para los promedios mensuales.\n",
    "dat_año= {'Año': Años, 'Precip.Prom': PreipitacionesAño, 'Tmax.Prom': TmaxAño, 'Tmin.Prom': TminAño}\n",
    "df0_anual = pd.DataFrame(data=dat_año)\n",
    "df0_anual\n",
    "\n",
    "#En la tabla que se genera, descatamos la primera columna de datos ya que son el contador de Python.\n",
    "\n"
   ]
  },
  {
   "cell_type": "code",
   "execution_count": 22,
   "metadata": {},
   "outputs": [
    {
     "data": {
      "image/png": "[encoded data removed]",
      "text/plain": [
       "<matplotlib.figure.Figure at 0x7fb99dde5898>"
      ]
     },
     "metadata": {},
     "output_type": "display_data"
    }
   ],
   "source": [
    "\n",
    "\n",
    "#Gráfica de barras de la precipitacion promedio acumulada por mes.\n",
    "Añs = Años\n",
    "#Calculamos el ancho óptimo.\n",
    "width = np.min(np.diff(Añs))/3\n",
    "\n",
    "#Grafica \n",
    "plt.bar(Años-width, PreipitacionesAño, width, align='center', alpha=0.5, color= \"G\")\n",
    "plt.xticks(Años-width, Añs, size = 'small', color = 'K', rotation = 90)\n",
    "plt.ylabel('Precipitación (mm)')\n",
    "plt.title('Precipitación promedio acumulada por año. (1974-2011)')\n",
    "plt.legend(('PANUAL'),frameon=False,loc='upper left')\n",
    "plt.savefig('PreciAño',plt=2000)\n",
    "plt.show()\n",
    "\n"
   ]
  },
  {
   "cell_type": "code",
   "execution_count": 24,
   "metadata": {},
   "outputs": [
    {
     "name": "stdout",
     "output_type": "stream",
     "text": [
      "Año 1983 : 214.2 mm\n",
      "Año 1984 : 263.9 mm\n",
      "Año 1985 : 53.0 mm\n",
      "Año 1986 : 9.0 mm\n",
      "Año 1987 : 0 mm\n",
      "Año 1988 : 92.0 mm\n",
      "Año 1989 : 34.0 mm\n",
      "Año 1990 : 159.0 mm\n",
      "Año 1991 : 165.0 mm\n",
      "Año 1992 : 279.0 mm\n",
      "Año 1993 : 148.0 mm\n",
      "Año 1994 : 0.0 mm\n",
      "Año 1995 : 0 mm\n",
      "Año 1996 : 0 mm\n",
      "Año 1997 : 0 mm\n"
     ]
    }
   ],
   "source": [
    " #Años húmedos y años secos\n",
    "# Los años 1981, 1998 - se excluyen\n",
    "for i in range(1982,1997):\n",
    "    PrecipAnual = df0['Precip'][df0['Año']==[i+1]].sum()\n",
    "    print(\"Año\", i+1,\":\", PrecipAnual, \"mm\")"
   ]
  },
  {
   "cell_type": "code",
   "execution_count": 25,
   "metadata": {},
   "outputs": [
    {
     "name": "stdout",
     "output_type": "stream",
     "text": [
      "Año: 1983 Num Datos 334 ,  0.92 %\n",
      "Año: 1984 Num Datos 366 ,  1.0 %\n",
      "Año: 1985 Num Datos 365 ,  1.0 %\n",
      "Año: 1986 Num Datos 207 ,  0.57 %\n",
      "Año: 1987 Num Datos 0 ,  0.0 %\n",
      "Año: 1988 Num Datos 244 ,  0.67 %\n",
      "Año: 1989 Num Datos 233 ,  0.64 %\n",
      "Año: 1990 Num Datos 273 ,  0.75 %\n",
      "Año: 1991 Num Datos 365 ,  1.0 %\n",
      "Año: 1992 Num Datos 306 ,  0.84 %\n",
      "Año: 1993 Num Datos 355 ,  0.97 %\n",
      "Año: 1994 Num Datos 0 ,  0.0 %\n",
      "Año: 1995 Num Datos 0 ,  0.0 %\n",
      "Año: 1996 Num Datos 0 ,  0.0 %\n",
      "Año: 1997 Num Datos 0 ,  0.0 %\n"
     ]
    }
   ],
   "source": [
    "# Número de datos faltantes por año\n",
    "for i in range(1982,1997):\n",
    "    NumDatos= df0['Precip'][df0['Año']==[i+1]].count()\n",
    "    print(\"Año:\", i+1, \"Num Datos\", NumDatos, \", \", np.round(NumDatos/365.0, decimals=2), \"%\")"
   ]
  },
  {
   "cell_type": "code",
   "execution_count": 26,
   "metadata": {},
   "outputs": [
    {
     "data": {
      "image/png": "[encoded data removed]",
      "text/plain": [
       "<matplotlib.figure.Figure at 0x7fb99dbf7080>"
      ]
     },
     "metadata": {},
     "output_type": "display_data"
    }
   ],
   "source": [
    "#Gráfica de temperatura máxima y mínima promedio a través del tiempo.\n",
    "X = Mns\n",
    "Mns = calendar.month_name[1:13]\n",
    "\n",
    "#Longitud del arreglo de datos\n",
    "N = np.arange(len(X)) \n",
    "\n",
    "#Lista de las temperaturas promedio por mes.\n",
    "Y1 = TmaxMens\n",
    "Y2 = TminMens\n",
    "\n",
    "plt.plot(Y1, label=\"Temperatura mínima\", color = 'G')\n",
    "plt.xlabel(\"Meses\")\n",
    "plt.ylabel(\"Temperatura (C)\")\n",
    "\n",
    "\n",
    "plt.xticks(N, X, size = 'small',color = 'k',rotation = 90)\n",
    "\n",
    "plt.plot(Y2, label=\"Temperatura máxima\", color = 'B')\n",
    "plt.legend()\n",
    "plt.title('Cambio mensual de las temperaturas promedio. (1974 - 2011)')\n",
    "plt.savefig('tempmensual',plt=2000)\n",
    "plt.show()"
   ]
  },
  {
   "cell_type": "code",
   "execution_count": 27,
   "metadata": {},
   "outputs": [
    {
     "data": {
      "image/png": "[encoded data removed]",
      "text/plain": [
       "<matplotlib.figure.Figure at 0x7fb99da77630>"
      ]
     },
     "metadata": {},
     "output_type": "display_data"
    }
   ],
   "source": [
    "\n",
    "\n",
    "#Gráfica de temperatura máxima y mínima promedio a través del tiempo.\n",
    "X = Años\n",
    "\n",
    "#Longitud del arreglo de datos\n",
    "N = np.arange(len(X)) \n",
    "\n",
    "#Lista de las temperaturas promedio por mes.\n",
    "Y1 = TmaxAño\n",
    "Y2 = TminAño\n",
    "\n",
    "plt.plot(Y1, label=\"Temperatura mínima\", color = 'G')\n",
    "plt.xlabel(\"Años\")\n",
    "plt.ylabel(\"Temperatura (C)\")\n",
    "\n",
    "\n",
    "plt.xticks(N, X, size = 'small', color = 'k', rotation = 90)\n",
    "\n",
    "plt.plot(Y2, label=\"Temperatura máxima\", color = 'B')\n",
    "plt.legend()\n",
    "plt.title('Cambio anual de las temperaturas promedio. (1974 - 2011)')\n",
    "plt.savefig('tempanual',plt=2000)\n",
    "plt.show()\n",
    "\n"
   ]
  },
  {
   "cell_type": "code",
   "execution_count": 29,
   "metadata": {},
   "outputs": [
    {
     "data": {
      "image/png": "[encoded data removed]",
      "text/plain": [
       "<matplotlib.figure.Figure at 0x7fb99dde5a20>"
      ]
     },
     "metadata": {},
     "output_type": "display_data"
    }
   ],
   "source": [
    "\n",
    "\n",
    "## diagrama de cajas para las temperaturas máximas de cada mes con seaborn.\n",
    "ax = sns.boxplot(x=\"Mes\", y=\"Tmax\", data=df0)\n",
    "ax.set(xlabel='Meses', ylabel='Temperaturas maximas (C)')\n",
    "\n",
    "#Remueve la \"espina dorsal\" de los ejes\n",
    "sns.despine() \n",
    "\n",
    "#Guardar la figura\n",
    "plt.savefig('cajatmaxmensualsns',plt=2000) \n",
    "plt.show()\n",
    "\n"
   ]
  },
  {
   "cell_type": "code",
   "execution_count": 30,
   "metadata": {},
   "outputs": [
    {
     "data": {
      "image/png": "[encoded data removed]",
      "text/plain": [
       "<matplotlib.figure.Figure at 0x7fb99db4ceb8>"
      ]
     },
     "metadata": {},
     "output_type": "display_data"
    }
   ],
   "source": [
    "\n",
    "\n",
    "# diagrama de cajas para las temperaturas máximas de cada mes con seaborn.\n",
    "ax = sns.boxplot(x=\"Mes\", y=\"Tmin\", data=df0)\n",
    "ax.set(xlabel='Meses', ylabel='Temperaturas minimas (C)')\n",
    "\n",
    "#Remueve la \"espina dorsal\" de los ejes\n",
    "sns.despine() \n",
    "\n",
    "#Guardar la figura\n",
    "plt.savefig('cajatmaxmensualsns',plt=2000) \n",
    "plt.show()\n",
    "\n"
   ]
  },
  {
   "cell_type": "code",
   "execution_count": 31,
   "metadata": {},
   "outputs": [
    {
     "data": {
      "image/png": "[encoded data removed]",
      "text/plain": [
       "<matplotlib.figure.Figure at 0x7fb99d8ef588>"
      ]
     },
     "metadata": {},
     "output_type": "display_data"
    }
   ],
   "source": [
    "\n",
    "\n",
    "# diagrama de cajas para las temperaturas máximas de cada año\n",
    "ax = sns.boxplot(x=\"Año\", y=\"Tmax\", data=df0)\n",
    "ax.set(xlabel='Años', ylabel='Temperaturas máximas. (C)')\n",
    "\n",
    "#Rotacion los datos 90 grados para mejor visualización\n",
    "ax.set_xticklabels(ax.get_xticklabels(),rotation=90)\n",
    "\n",
    "#Tamaño de fuente de datos en los ejes\n",
    "ax.tick_params(labelsize=8)\n",
    "\n",
    "#Remueve la \"espina dorsal\" de los ejes\n",
    "sns.despine()\n",
    "plt.savefig('cajatmaxanual',plt=2000)\n",
    "\n",
    "#Guardar la imagen generada de la grafica en la computadora.\n",
    "plt.show()\n",
    "\n"
   ]
  },
  {
   "cell_type": "code",
   "execution_count": 32,
   "metadata": {},
   "outputs": [
    {
     "data": {
      "image/png": "[encoded data removed]",
      "text/plain": [
       "<matplotlib.figure.Figure at 0x7fb99da9aac8>"
      ]
     },
     "metadata": {},
     "output_type": "display_data"
    }
   ],
   "source": [
    "\n",
    "\n",
    "# diagrama de cajas para las temperaturas máximas de cada año\n",
    "ax = sns.boxplot(x=\"Año\", y=\"Tmin\", data=df0)\n",
    "ax.set(xlabel='Años', ylabel='Temperaturas minimas. (C)')\n",
    "\n",
    "#Rotacion los datos 90 grados para mejor visualización\n",
    "ax.set_xticklabels(ax.get_xticklabels(), rotation=90)\n",
    "\n",
    "#Tamaño de fuente de datos en los ejes\n",
    "ax.tick_params(labelsize=8)\n",
    "\n",
    "#Remueve la \"espina dorsal\" de los ejes\n",
    "sns.despine()\n",
    "plt.savefig('cajatminanual',plt=2000)\n",
    "\n",
    "#Guardar la imagen generada de la grafica en la computadora.\n",
    "plt.show()\n",
    "\n"
   ]
  },
  {
   "cell_type": "code",
   "execution_count": null,
   "metadata": {
    "collapsed": true
   },
   "outputs": [],
   "source": []
  }
 ],
 "metadata": {
  "kernelspec": {
   "display_name": "Python 3",
   "language": "python",
   "name": "python3"
  },
  "language_info": {
   "codemirror_mode": {
    "name": "ipython",
    "version": 3
   },
   "file_extension": ".py",
   "mimetype": "text/x-python",
   "name": "python",
   "nbconvert_exporter": "python",
   "pygments_lexer": "ipython3",
   "version": "3.6.3"
  }
 },
 "nbformat": 4,
 "nbformat_minor": 2
}
