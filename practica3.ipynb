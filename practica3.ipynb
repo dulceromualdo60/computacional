{
 "cells": [
  {
   "cell_type": "code",
   "execution_count": 17,
   "metadata": {
    "collapsed": true
   },
   "outputs": [],
   "source": [
    "# Importar las librerias que necesitaré\n",
    "import pandas as pd\n",
    "import numpy as np\n",
    "import matplotlib.pyplot as plt"
   ]
  },
  {
   "cell_type": "code",
   "execution_count": null,
   "metadata": {
    "collapsed": true
   },
   "outputs": [],
   "source": [
    "df0 = pd.read_csv('bk.txt', sep='\\s+')"
   ]
  },
  {
   "cell_type": "code",
   "execution_count": 16,
   "metadata": {},
   "outputs": [
    {
     "data": {
      "text/html": [
       "<div>\n",
       "<style>\n",
       "    .dataframe thead tr:only-child th {\n",
       "        text-align: right;\n",
       "    }\n",
       "\n",
       "    .dataframe thead th {\n",
       "        text-align: left;\n",
       "    }\n",
       "\n",
       "    .dataframe tbody tr th {\n",
       "        vertical-align: top;\n",
       "    }\n",
       "</style>\n",
       "<table border=\"1\" class=\"dataframe\">\n",
       "  <thead>\n",
       "    <tr style=\"text-align: right;\">\n",
       "      <th></th>\n",
       "      <th>FECHA</th>\n",
       "      <th>PRECIP</th>\n",
       "      <th>EVAP</th>\n",
       "      <th>TMAX</th>\n",
       "      <th>TMIN</th>\n",
       "    </tr>\n",
       "  </thead>\n",
       "  <tbody>\n",
       "    <tr>\n",
       "      <th>0</th>\n",
       "      <td>01/07/1974</td>\n",
       "      <td>0</td>\n",
       "      <td>7.3</td>\n",
       "      <td>35</td>\n",
       "      <td>22</td>\n",
       "    </tr>\n",
       "    <tr>\n",
       "      <th>1</th>\n",
       "      <td>02/07/1974</td>\n",
       "      <td>0</td>\n",
       "      <td>10.5</td>\n",
       "      <td>34</td>\n",
       "      <td>22.5</td>\n",
       "    </tr>\n",
       "    <tr>\n",
       "      <th>2</th>\n",
       "      <td>03/07/1974</td>\n",
       "      <td>0</td>\n",
       "      <td>13.6</td>\n",
       "      <td>31.5</td>\n",
       "      <td>21</td>\n",
       "    </tr>\n",
       "    <tr>\n",
       "      <th>3</th>\n",
       "      <td>04/07/1974</td>\n",
       "      <td>0</td>\n",
       "      <td>10.7</td>\n",
       "      <td>41</td>\n",
       "      <td>28</td>\n",
       "    </tr>\n",
       "    <tr>\n",
       "      <th>4</th>\n",
       "      <td>05/07/1974</td>\n",
       "      <td>0</td>\n",
       "      <td>10.9</td>\n",
       "      <td>35</td>\n",
       "      <td>28</td>\n",
       "    </tr>\n",
       "  </tbody>\n",
       "</table>\n",
       "</div>"
      ],
      "text/plain": [
       "        FECHA PRECIP  EVAP  TMAX  TMIN\n",
       "0  01/07/1974      0   7.3    35    22\n",
       "1  02/07/1974      0  10.5    34  22.5\n",
       "2  03/07/1974      0  13.6  31.5    21\n",
       "3  04/07/1974      0  10.7    41    28\n",
       "4  05/07/1974      0  10.9    35    28"
      ]
     },
     "execution_count": 16,
     "metadata": {},
     "output_type": "execute_result"
    }
   ],
   "source": [
    "# Encabezado\n",
    "df0.head()"
   ]
  },
  {
   "cell_type": "code",
   "execution_count": 18,
   "metadata": {},
   "outputs": [
    {
     "data": {
      "text/html": [
       "<div>\n",
       "<style>\n",
       "    .dataframe thead tr:only-child th {\n",
       "        text-align: right;\n",
       "    }\n",
       "\n",
       "    .dataframe thead th {\n",
       "        text-align: left;\n",
       "    }\n",
       "\n",
       "    .dataframe tbody tr th {\n",
       "        vertical-align: top;\n",
       "    }\n",
       "</style>\n",
       "<table border=\"1\" class=\"dataframe\">\n",
       "  <thead>\n",
       "    <tr style=\"text-align: right;\">\n",
       "      <th></th>\n",
       "      <th>FECHA</th>\n",
       "      <th>PRECIP</th>\n",
       "      <th>EVAP</th>\n",
       "      <th>TMAX</th>\n",
       "      <th>TMIN</th>\n",
       "    </tr>\n",
       "  </thead>\n",
       "  <tbody>\n",
       "    <tr>\n",
       "      <th>6631</th>\n",
       "      <td>28/07/2011</td>\n",
       "      <td>0</td>\n",
       "      <td>7</td>\n",
       "      <td>33.5</td>\n",
       "      <td>24.5</td>\n",
       "    </tr>\n",
       "    <tr>\n",
       "      <th>6632</th>\n",
       "      <td>29/07/2011</td>\n",
       "      <td>0</td>\n",
       "      <td>7.6</td>\n",
       "      <td>33</td>\n",
       "      <td>25.5</td>\n",
       "    </tr>\n",
       "    <tr>\n",
       "      <th>6633</th>\n",
       "      <td>30/07/2011</td>\n",
       "      <td>0</td>\n",
       "      <td>8.1</td>\n",
       "      <td>36</td>\n",
       "      <td>25.5</td>\n",
       "    </tr>\n",
       "    <tr>\n",
       "      <th>6634</th>\n",
       "      <td>31/07/2011</td>\n",
       "      <td>0</td>\n",
       "      <td>Nulo</td>\n",
       "      <td>Nulo</td>\n",
       "      <td>27.5</td>\n",
       "    </tr>\n",
       "    <tr>\n",
       "      <th>6635</th>\n",
       "      <td>--------------------------------------</td>\n",
       "      <td>NaN</td>\n",
       "      <td>NaN</td>\n",
       "      <td>NaN</td>\n",
       "      <td>NaN</td>\n",
       "    </tr>\n",
       "  </tbody>\n",
       "</table>\n",
       "</div>"
      ],
      "text/plain": [
       "                                       FECHA PRECIP  EVAP  TMAX  TMIN\n",
       "6631                              28/07/2011      0     7  33.5  24.5\n",
       "6632                              29/07/2011      0   7.6    33  25.5\n",
       "6633                              30/07/2011      0   8.1    36  25.5\n",
       "6634                              31/07/2011      0  Nulo  Nulo  27.5\n",
       "6635  --------------------------------------    NaN   NaN   NaN   NaN"
      ]
     },
     "execution_count": 18,
     "metadata": {},
     "output_type": "execute_result"
    }
   ],
   "source": [
    "# final\n",
    "df0.tail()"
   ]
  },
  {
   "cell_type": "code",
   "execution_count": 19,
   "metadata": {},
   "outputs": [
    {
     "data": {
      "text/plain": [
       "FECHA     object\n",
       "PRECIP    object\n",
       "EVAP      object\n",
       "TMAX      object\n",
       "TMIN      object\n",
       "dtype: object"
      ]
     },
     "execution_count": 19,
     "metadata": {},
     "output_type": "execute_result"
    }
   ],
   "source": [
    "# Tipos de variables\n",
    "df0.dtypes"
   ]
  },
  {
   "cell_type": "code",
   "execution_count": 20,
   "metadata": {
    "collapsed": true
   },
   "outputs": [],
   "source": [
    "df0 = pd.read_csv(\"bk.txt\", sep=\"\\s+\", skiprows=20, skipfooter=1, engine='python', \n",
    "                  names=['Fecha', 'Precip', 'Evap', 'Tmax', 'Tmin'])\n"
   ]
  },
  {
   "cell_type": "code",
   "execution_count": 21,
   "metadata": {
    "collapsed": true
   },
   "outputs": [],
   "source": [
    "df0['NFecha'] =  pd.to_datetime(df0['Fecha'], format='%d/%m/%Y')"
   ]
  },
  {
   "cell_type": "code",
   "execution_count": 22,
   "metadata": {},
   "outputs": [
    {
     "data": {
      "text/plain": [
       "Fecha             object\n",
       "Precip            object\n",
       "Evap              object\n",
       "Tmax              object\n",
       "Tmin              object\n",
       "NFecha    datetime64[ns]\n",
       "dtype: object"
      ]
     },
     "execution_count": 22,
     "metadata": {},
     "output_type": "execute_result"
    }
   ],
   "source": [
    "df0.dtypes"
   ]
  },
  {
   "cell_type": "raw",
   "metadata": {
    "collapsed": true
   },
   "source": [
    "df0.head()"
   ]
  },
  {
   "cell_type": "code",
   "execution_count": 23,
   "metadata": {},
   "outputs": [
    {
     "data": {
      "text/html": [
       "<div>\n",
       "<style>\n",
       "    .dataframe thead tr:only-child th {\n",
       "        text-align: right;\n",
       "    }\n",
       "\n",
       "    .dataframe thead th {\n",
       "        text-align: left;\n",
       "    }\n",
       "\n",
       "    .dataframe tbody tr th {\n",
       "        vertical-align: top;\n",
       "    }\n",
       "</style>\n",
       "<table border=\"1\" class=\"dataframe\">\n",
       "  <thead>\n",
       "    <tr style=\"text-align: right;\">\n",
       "      <th></th>\n",
       "      <th>Fecha</th>\n",
       "      <th>Precip</th>\n",
       "      <th>Evap</th>\n",
       "      <th>Tmax</th>\n",
       "      <th>Tmin</th>\n",
       "      <th>NFecha</th>\n",
       "    </tr>\n",
       "  </thead>\n",
       "  <tbody>\n",
       "    <tr>\n",
       "      <th>6611</th>\n",
       "      <td>27/07/2011</td>\n",
       "      <td>0</td>\n",
       "      <td>9.4</td>\n",
       "      <td>34</td>\n",
       "      <td>24</td>\n",
       "      <td>2011-07-27</td>\n",
       "    </tr>\n",
       "    <tr>\n",
       "      <th>6612</th>\n",
       "      <td>28/07/2011</td>\n",
       "      <td>0</td>\n",
       "      <td>7</td>\n",
       "      <td>33.5</td>\n",
       "      <td>24.5</td>\n",
       "      <td>2011-07-28</td>\n",
       "    </tr>\n",
       "    <tr>\n",
       "      <th>6613</th>\n",
       "      <td>29/07/2011</td>\n",
       "      <td>0</td>\n",
       "      <td>7.6</td>\n",
       "      <td>33</td>\n",
       "      <td>25.5</td>\n",
       "      <td>2011-07-29</td>\n",
       "    </tr>\n",
       "    <tr>\n",
       "      <th>6614</th>\n",
       "      <td>30/07/2011</td>\n",
       "      <td>0</td>\n",
       "      <td>8.1</td>\n",
       "      <td>36</td>\n",
       "      <td>25.5</td>\n",
       "      <td>2011-07-30</td>\n",
       "    </tr>\n",
       "    <tr>\n",
       "      <th>6615</th>\n",
       "      <td>31/07/2011</td>\n",
       "      <td>0</td>\n",
       "      <td>Nulo</td>\n",
       "      <td>Nulo</td>\n",
       "      <td>27.5</td>\n",
       "      <td>2011-07-31</td>\n",
       "    </tr>\n",
       "  </tbody>\n",
       "</table>\n",
       "</div>"
      ],
      "text/plain": [
       "           Fecha Precip  Evap  Tmax  Tmin     NFecha\n",
       "6611  27/07/2011      0   9.4    34    24 2011-07-27\n",
       "6612  28/07/2011      0     7  33.5  24.5 2011-07-28\n",
       "6613  29/07/2011      0   7.6    33  25.5 2011-07-29\n",
       "6614  30/07/2011      0   8.1    36  25.5 2011-07-30\n",
       "6615  31/07/2011      0  Nulo  Nulo  27.5 2011-07-31"
      ]
     },
     "execution_count": 23,
     "metadata": {},
     "output_type": "execute_result"
    }
   ],
   "source": [
    "df0.tail()"
   ]
  },
  {
   "cell_type": "code",
   "execution_count": 24,
   "metadata": {},
   "outputs": [
    {
     "data": {
      "text/plain": [
       "Fecha             object\n",
       "Precip            object\n",
       "Evap              object\n",
       "Tmax              object\n",
       "Tmin              object\n",
       "NFecha    datetime64[ns]\n",
       "dtype: object"
      ]
     },
     "execution_count": 24,
     "metadata": {},
     "output_type": "execute_result"
    }
   ],
   "source": [
    "df0.dtypes"
   ]
  },
  {
   "cell_type": "code",
   "execution_count": 28,
   "metadata": {},
   "outputs": [
    {
     "data": {
      "text/plain": [
       "Precip           float64\n",
       "Evap             float64\n",
       "Tmax             float64\n",
       "Tmin             float64\n",
       "NFecha    datetime64[ns]\n",
       "dtype: object"
      ]
     },
     "execution_count": 28,
     "metadata": {},
     "output_type": "execute_result"
    }
   ],
   "source": [
    "df0[['Precip','Evap','Tmax','Tmin']] = df0[['Precip','Evap','Tmax','Tmin']] \\\n",
    ".apply(pd.to_numeric, errors='coerce')\n",
    "df0 = df0.drop('Fecha', 1)\n",
    "df0.dtypes"
   ]
  },
  {
   "cell_type": "code",
   "execution_count": 29,
   "metadata": {},
   "outputs": [
    {
     "data": {
      "text/plain": [
       "Precip     0.352833\n",
       "Evap       6.087558\n",
       "Tmax      27.095237\n",
       "Tmin      13.932766\n",
       "dtype: float64"
      ]
     },
     "execution_count": 29,
     "metadata": {},
     "output_type": "execute_result"
    }
   ],
   "source": [
    "df0.mean()"
   ]
  },
  {
   "cell_type": "code",
   "execution_count": 30,
   "metadata": {},
   "outputs": [
    {
     "data": {
      "text/plain": [
       "Precip    2.769601\n",
       "Evap      2.710722\n",
       "Tmax      5.784160\n",
       "Tmin      7.033952\n",
       "dtype: float64"
      ]
     },
     "execution_count": 30,
     "metadata": {},
     "output_type": "execute_result"
    }
   ],
   "source": [
    "df0.std()"
   ]
  },
  {
   "cell_type": "code",
   "execution_count": 31,
   "metadata": {},
   "outputs": [
    {
     "data": {
      "text/plain": [
       "Precip     0.0\n",
       "Evap       6.0\n",
       "Tmax      27.0\n",
       "Tmin      12.5\n",
       "dtype: float64"
      ]
     },
     "execution_count": 31,
     "metadata": {},
     "output_type": "execute_result"
    }
   ],
   "source": [
    "df0.median()"
   ]
  },
  {
   "cell_type": "code",
   "execution_count": 32,
   "metadata": {},
   "outputs": [
    {
     "data": {
      "text/plain": [
       "Precip                     70\n",
       "Evap                     17.7\n",
       "Tmax                     48.5\n",
       "Tmin                       30\n",
       "NFecha    2011-07-31 00:00:00\n",
       "dtype: object"
      ]
     },
     "execution_count": 32,
     "metadata": {},
     "output_type": "execute_result"
    }
   ],
   "source": [
    "df0.max()"
   ]
  },
  {
   "cell_type": "code",
   "execution_count": 33,
   "metadata": {},
   "outputs": [
    {
     "data": {
      "text/plain": [
       "Precip                      0\n",
       "Evap                      0.1\n",
       "Tmax                     10.5\n",
       "Tmin                       -4\n",
       "NFecha    1974-07-20 00:00:00\n",
       "dtype: object"
      ]
     },
     "execution_count": 33,
     "metadata": {},
     "output_type": "execute_result"
    }
   ],
   "source": [
    "#Valores minimos de cada columna.\n",
    "df0.min()"
   ]
  },
  {
   "cell_type": "code",
   "execution_count": 34,
   "metadata": {},
   "outputs": [
    {
     "data": {
      "text/html": [
       "<div>\n",
       "<style>\n",
       "    .dataframe thead tr:only-child th {\n",
       "        text-align: right;\n",
       "    }\n",
       "\n",
       "    .dataframe thead th {\n",
       "        text-align: left;\n",
       "    }\n",
       "\n",
       "    .dataframe tbody tr th {\n",
       "        vertical-align: top;\n",
       "    }\n",
       "</style>\n",
       "<table border=\"1\" class=\"dataframe\">\n",
       "  <thead>\n",
       "    <tr style=\"text-align: right;\">\n",
       "      <th></th>\n",
       "      <th>Precip</th>\n",
       "      <th>Evap</th>\n",
       "      <th>Tmax</th>\n",
       "      <th>Tmin</th>\n",
       "    </tr>\n",
       "  </thead>\n",
       "  <tbody>\n",
       "    <tr>\n",
       "      <th>count</th>\n",
       "      <td>6600.000000</td>\n",
       "      <td>4702.000000</td>\n",
       "      <td>6466.000000</td>\n",
       "      <td>6467.000000</td>\n",
       "    </tr>\n",
       "    <tr>\n",
       "      <th>mean</th>\n",
       "      <td>0.352833</td>\n",
       "      <td>6.087558</td>\n",
       "      <td>27.095237</td>\n",
       "      <td>13.932766</td>\n",
       "    </tr>\n",
       "    <tr>\n",
       "      <th>std</th>\n",
       "      <td>2.769601</td>\n",
       "      <td>2.710722</td>\n",
       "      <td>5.784160</td>\n",
       "      <td>7.033952</td>\n",
       "    </tr>\n",
       "    <tr>\n",
       "      <th>min</th>\n",
       "      <td>0.000000</td>\n",
       "      <td>0.100000</td>\n",
       "      <td>10.500000</td>\n",
       "      <td>-4.000000</td>\n",
       "    </tr>\n",
       "    <tr>\n",
       "      <th>25%</th>\n",
       "      <td>0.000000</td>\n",
       "      <td>4.100000</td>\n",
       "      <td>22.000000</td>\n",
       "      <td>8.000000</td>\n",
       "    </tr>\n",
       "    <tr>\n",
       "      <th>50%</th>\n",
       "      <td>0.000000</td>\n",
       "      <td>6.000000</td>\n",
       "      <td>27.000000</td>\n",
       "      <td>12.500000</td>\n",
       "    </tr>\n",
       "    <tr>\n",
       "      <th>75%</th>\n",
       "      <td>0.000000</td>\n",
       "      <td>7.900000</td>\n",
       "      <td>32.000000</td>\n",
       "      <td>20.000000</td>\n",
       "    </tr>\n",
       "    <tr>\n",
       "      <th>max</th>\n",
       "      <td>70.000000</td>\n",
       "      <td>17.700000</td>\n",
       "      <td>48.500000</td>\n",
       "      <td>30.000000</td>\n",
       "    </tr>\n",
       "  </tbody>\n",
       "</table>\n",
       "</div>"
      ],
      "text/plain": [
       "            Precip         Evap         Tmax         Tmin\n",
       "count  6600.000000  4702.000000  6466.000000  6467.000000\n",
       "mean      0.352833     6.087558    27.095237    13.932766\n",
       "std       2.769601     2.710722     5.784160     7.033952\n",
       "min       0.000000     0.100000    10.500000    -4.000000\n",
       "25%       0.000000     4.100000    22.000000     8.000000\n",
       "50%       0.000000     6.000000    27.000000    12.500000\n",
       "75%       0.000000     7.900000    32.000000    20.000000\n",
       "max      70.000000    17.700000    48.500000    30.000000"
      ]
     },
     "execution_count": 34,
     "metadata": {},
     "output_type": "execute_result"
    }
   ],
   "source": [
    "\n",
    "#Resumen estadistico de los datos.\n",
    "df0.describe()"
   ]
  },
  {
   "cell_type": "code",
   "execution_count": 35,
   "metadata": {},
   "outputs": [
    {
     "data": {
      "text/plain": [
       "RangeIndex(start=0, stop=6616, step=1)"
      ]
     },
     "execution_count": 35,
     "metadata": {},
     "output_type": "execute_result"
    }
   ],
   "source": [
    "df0.index"
   ]
  },
  {
   "cell_type": "code",
   "execution_count": 36,
   "metadata": {},
   "outputs": [
    {
     "data": {
      "text/plain": [
       "Index(['Precip', 'Evap', 'Tmax', 'Tmin', 'NFecha'], dtype='object')"
      ]
     },
     "execution_count": 36,
     "metadata": {},
     "output_type": "execute_result"
    }
   ],
   "source": [
    "df0.columns"
   ]
  },
  {
   "cell_type": "code",
   "execution_count": 37,
   "metadata": {},
   "outputs": [
    {
     "data": {
      "text/html": [
       "<div>\n",
       "<style>\n",
       "    .dataframe thead tr:only-child th {\n",
       "        text-align: right;\n",
       "    }\n",
       "\n",
       "    .dataframe thead th {\n",
       "        text-align: left;\n",
       "    }\n",
       "\n",
       "    .dataframe tbody tr th {\n",
       "        vertical-align: top;\n",
       "    }\n",
       "</style>\n",
       "<table border=\"1\" class=\"dataframe\">\n",
       "  <thead>\n",
       "    <tr style=\"text-align: right;\">\n",
       "      <th></th>\n",
       "      <th>variable</th>\n",
       "      <th>value</th>\n",
       "    </tr>\n",
       "  </thead>\n",
       "  <tbody>\n",
       "    <tr>\n",
       "      <th>0</th>\n",
       "      <td>Precip</td>\n",
       "      <td>0</td>\n",
       "    </tr>\n",
       "    <tr>\n",
       "      <th>1</th>\n",
       "      <td>Precip</td>\n",
       "      <td>0</td>\n",
       "    </tr>\n",
       "    <tr>\n",
       "      <th>2</th>\n",
       "      <td>Precip</td>\n",
       "      <td>0</td>\n",
       "    </tr>\n",
       "    <tr>\n",
       "      <th>3</th>\n",
       "      <td>Precip</td>\n",
       "      <td>0</td>\n",
       "    </tr>\n",
       "    <tr>\n",
       "      <th>4</th>\n",
       "      <td>Precip</td>\n",
       "      <td>0</td>\n",
       "    </tr>\n",
       "  </tbody>\n",
       "</table>\n",
       "</div>"
      ],
      "text/plain": [
       "  variable value\n",
       "0   Precip     0\n",
       "1   Precip     0\n",
       "2   Precip     0\n",
       "3   Precip     0\n",
       "4   Precip     0"
      ]
     },
     "execution_count": 37,
     "metadata": {},
     "output_type": "execute_result"
    }
   ],
   "source": [
    "\n",
    "#Juntamos las columnas con filas de datos.\n",
    "df1 = pd.melt(df0)\n",
    "df1.head()"
   ]
  },
  {
   "cell_type": "code",
   "execution_count": 39,
   "metadata": {},
   "outputs": [
    {
     "data": {
      "text/plain": [
       "(   Precip  Evap  Tmax  Tmin     NFecha   Año  Mes\n",
       " 0     0.0   NaN  31.5  24.0 1974-07-20  1974    7\n",
       " 1     0.0   8.8  32.0  27.0 1974-07-21  1974    7\n",
       " 2     0.0   7.2  32.0  27.0 1974-07-22  1974    7\n",
       " 3     0.0   8.7  33.0  26.0 1974-07-23  1974    7\n",
       " 4     0.0   7.5  32.5  27.0 1974-07-24  1974    7,\n",
       "       Precip  Evap  Tmax  Tmin     NFecha   Año  Mes\n",
       " 6611     0.0   9.4  34.0  24.0 2011-07-27  2011    7\n",
       " 6612     0.0   7.0  33.5  24.5 2011-07-28  2011    7\n",
       " 6613     0.0   7.6  33.0  25.5 2011-07-29  2011    7\n",
       " 6614     0.0   8.1  36.0  25.5 2011-07-30  2011    7\n",
       " 6615     0.0   NaN   NaN  27.5 2011-07-31  2011    7)"
      ]
     },
     "execution_count": 39,
     "metadata": {},
     "output_type": "execute_result"
    }
   ],
   "source": [
    "# Crear columnas con Año y Mes extraídos de la columna fecha. \n",
    "df0['Año'] = df0['NFecha'].dt.year\n",
    "df0['Mes'] = df0['NFecha'].dt.month\n",
    "\n",
    "df0.head(), df0.tail()"
   ]
  },
  {
   "cell_type": "code",
   "execution_count": 40,
   "metadata": {},
   "outputs": [
    {
     "name": "stdout",
     "output_type": "stream",
     "text": [
      "24 años de datos\n"
     ]
    }
   ],
   "source": [
    "# Número de años distintos df0['Año'].unique(),\n",
    "NumA = len(df0['Año'].unique())\n",
    "print(NumA, \"años de datos\")"
   ]
  },
  {
   "cell_type": "code",
   "execution_count": 42,
   "metadata": {},
   "outputs": [
    {
     "name": "stdout",
     "output_type": "stream",
     "text": [
      "Mes 1 : 7.51 mm , Acumulada: 7.51 mm\n",
      "Mes 2 : 5.17 mm , Acumulada: 12.68 mm\n",
      "Mes 3 : 1.75 mm , Acumulada: 14.42 mm\n",
      "Mes 4 : 0.67 mm , Acumulada: 15.09 mm\n",
      "Mes 5 : 0.29 mm , Acumulada: 15.38 mm\n",
      "Mes 6 : 1.21 mm , Acumulada: 16.59 mm\n",
      "Mes 7 : 11.6 mm , Acumulada: 28.2 mm\n",
      "Mes 8 : 27.81 mm , Acumulada: 56.0 mm\n",
      "Mes 9 : 16.18 mm , Acumulada: 72.18 mm\n",
      "Mes 10 : 7.98 mm , Acumulada: 80.17 mm\n",
      "Mes 11 : 3.58 mm , Acumulada: 83.74 mm\n",
      "Mes 12 : 13.29 mm , Acumulada: 97.03 mm\n"
     ]
    }
   ],
   "source": [
    "#Arreglo paraencontrar los el calculo de las precipitaciones.\n",
    "total=0.0\n",
    "for i in range(12):\n",
    "    PrecipitacionMens = df0['Precip'][df0['Mes']==[i+1]].sum()/NumA\n",
    "    total=total+PrecipitacionMens\n",
    "    print(\"Mes\", i+1,\":\", np.round(PrecipitacionMens, decimals=2), \"mm\", \", Acumulada:\", \n",
    "          np.round(total, decimals=2), \"mm\")"
   ]
  },
  {
   "cell_type": "code",
   "execution_count": 45,
   "metadata": {},
   "outputs": [
    {
     "name": "stdout",
     "output_type": "stream",
     "text": [
      "Tmin Mes 1 : 6.59 ºC\n",
      "Tmin Mes 2 : 7.17 ºC\n",
      "Tmin Mes 3 : 8.59 ºC\n",
      "Tmin Mes 4 : 10.7 ºC\n",
      "Tmin Mes 5 : 13.23 ºC\n",
      "Tmin Mes 6 : 18.23 ºC\n",
      "Tmin Mes 7 : 23.7 ºC\n",
      "Tmin Mes 8 : 23.79 ºC\n",
      "Tmin Mes 9 : 21.98 ºC\n",
      "Tmin Mes 10 : 15.9 ºC\n",
      "Tmin Mes 11 : 9.86 ºC\n",
      "Tmin Mes 12 : 6.89 ºC\n",
      " \n",
      "Tmax Mes 1 : 19.7 ºC\n",
      "Tmax Mes 2 : 21.46 ºC\n",
      "Tmax Mes 3 : 22.93 ºC\n",
      "Tmax Mes 4 : 25.52 ºC\n",
      "Tmax Mes 5 : 28.09 ºC\n",
      "Tmax Mes 6 : 31.99 ºC\n",
      "Tmax Mes 7 : 33.02 ºC\n",
      "Tmax Mes 8 : 33.83 ºC\n",
      "Tmax Mes 9 : 33.13 ºC\n",
      "Tmax Mes 10 : 29.52 ºC\n",
      "Tmax Mes 11 : 24.32 ºC\n",
      "Tmax Mes 12 : 20.9 ºC\n"
     ]
    }
   ],
   "source": [
    "# Calcular la temperatura promedio Tmin (meses fríos) y Tmax (meses cálidos)\n",
    "\n",
    "for i in range(12):\n",
    "    TminPromMensual = df0[df0['Mes']==i+1]['Tmin'].sum()/df0[df0['Mes'] ==i+1]['Tmin'].count()\n",
    "    print(\"Tmin Mes\", i+1,\":\", np.round(TminPromMensual, decimals=2), \"ºC\")\n",
    "  \n",
    "print(\" \")\n",
    "    \n",
    "for i in range(12):\n",
    "    TmaxPromMensual = df0[df0['Mes']==i+1]['Tmax'].sum()/df0[df0['Mes'] ==i+1]['Tmax'].count()\n",
    "    print(\"Tmax Mes\", i+1,\":\", np.round(TmaxPromMensual, decimals=2), \"ºC\")"
   ]
  },
  {
   "cell_type": "code",
   "execution_count": 46,
   "metadata": {},
   "outputs": [
    {
     "name": "stdout",
     "output_type": "stream",
     "text": [
      "Año 1983 : 214.2 mm\n",
      "Año 1984 : 263.9 mm\n",
      "Año 1985 : 53.0 mm\n",
      "Año 1986 : 9.0 mm\n",
      "Año 1987 : 0 mm\n",
      "Año 1988 : 92.0 mm\n",
      "Año 1989 : 34.0 mm\n",
      "Año 1990 : 159.0 mm\n",
      "Año 1991 : 165.0 mm\n",
      "Año 1992 : 279.0 mm\n",
      "Año 1993 : 148.0 mm\n",
      "Año 1994 : 0.0 mm\n",
      "Año 1995 : 0 mm\n",
      "Año 1996 : 0 mm\n",
      "Año 1997 : 0 mm\n"
     ]
    }
   ],
   "source": [
    "# Años húmedos y años secos\n",
    "# Años incompletos 1981, 1998 - se excluyen\n",
    "for i in range(1982,1997):\n",
    "    PrecipAnual = df0['Precip'][df0['Año']==[i+1]].sum()\n",
    "    print(\"Año\", i+1,\":\", PrecipAnual, \"mm\")"
   ]
  },
  {
   "cell_type": "code",
   "execution_count": 47,
   "metadata": {},
   "outputs": [
    {
     "name": "stdout",
     "output_type": "stream",
     "text": [
      "Año: 1983 Num Datos 334 ,  0.92 %\n",
      "Año: 1984 Num Datos 366 ,  1.0 %\n",
      "Año: 1985 Num Datos 365 ,  1.0 %\n",
      "Año: 1986 Num Datos 207 ,  0.57 %\n",
      "Año: 1987 Num Datos 0 ,  0.0 %\n",
      "Año: 1988 Num Datos 244 ,  0.67 %\n",
      "Año: 1989 Num Datos 233 ,  0.64 %\n",
      "Año: 1990 Num Datos 273 ,  0.75 %\n",
      "Año: 1991 Num Datos 365 ,  1.0 %\n",
      "Año: 1992 Num Datos 306 ,  0.84 %\n",
      "Año: 1993 Num Datos 355 ,  0.97 %\n",
      "Año: 1994 Num Datos 0 ,  0.0 %\n",
      "Año: 1995 Num Datos 0 ,  0.0 %\n",
      "Año: 1996 Num Datos 0 ,  0.0 %\n",
      "Año: 1997 Num Datos 0 ,  0.0 %\n"
     ]
    }
   ],
   "source": [
    "# Número de datos faltantes por año\n",
    "for i in range(1982,1997):\n",
    "    NumDatos= df0['Precip'][df0['Año']==[i+1]].count()\n",
    "    print(\"Año:\", i+1, \"Num Datos\", NumDatos, \", \", np.round(NumDatos/365.0, decimals=2), \"%\")"
   ]
  },
  {
   "cell_type": "code",
   "execution_count": null,
   "metadata": {
    "collapsed": true
   },
   "outputs": [],
   "source": [
    "Actividad tres\n",
    "Fisíca computacional\n",
    "Romualdo Maueda García\n",
    "18 de mayo de 2019\n",
    "1.\n",
    "Resumen\n",
    "A continuación se describen las acciones que se tuvieron que ejecutar para la elaboración\n",
    "de la actividad numero tres, que consiste en el manejo del lenguaje de programación Python\n",
    "y las librerías que fue necesario importar en el código y así realizar todas las maniobras\n",
    "requeridas.\n",
    "La librería que se utilizó mas en este código fue pandas que es utilizada para la manipulación\n",
    "de datos. Y puesto el código de ésta practica consiste en manejar la información contenida\n",
    "en un archivo de datos entonces pandas es una pieza fundamental en este programa.\n",
    "Luego entonces el programa consiste en manejar los datos del servicio meteorológico nacio-\n",
    "nal, las variables que se manejaron son fecha, temperatura, precipitación, sus promedios, sus\n",
    "máximos y mínimos.\n",
    "Otra de las librerías fue necesario importar es numpy que tiene la función de organizar los\n",
    "arreglos como matrices, otra de las cosas que hace numpy es integrar herramientas de código\n",
    "c,c++ y fortran, además permite utilizar transformadas de fourier, álgebra lineal y numeros\n",
    "aleatorios. Otra herramienta utilizada es la librería matplotlib, que tiene la función de ela-\n",
    "borar las gráficas.\n",
    "Antes de empezar a trabajar con el código fué necesario descargar el archivo con se trabaja,\n",
    "esto lo ejecute con función read csv.\n",
    "Las funciones mas utilizadas son: df.head() encabezado\n",
    "df.tail() final\n",
    "df.dtypes() tipos de variables\n",
    "df,means() promedio\n",
    "df.std() desviación estandar\n",
    "df.median() mediana\n",
    "df.max() máximo\n",
    "df.min() mínimo\n",
    "df.describe() resumen estadistico\n",
    "df.index() indice\n",
    "df.columns() columnas\n",
    "df.drop() elimar renglones\n",
    "12.\n",
    "Cuestionario\n",
    "1.- la forma de determinar los días más lluviosos es creando un arreglo donde se calculan\n",
    "las precipitaciones, esto se hace con loops. aquí se utiliza la función (for).\n",
    "2.- Los meses mas lluviosos y más cálidos son el mes siete.\n",
    "3.-Los años húmedos son: 1983,1984,...hasta 1997.\n",
    "4.-Inviernos m’as frios: 1974, 2011\n",
    "5.- Los años más secos 2011\n",
    "6.-Veranos más cálidos\n",
    "7.-La temperatura mensual en los ultimos años se observa muy cambiante pero se advierte\n",
    "un ligero aumento.en la temperatura.\n",
    "8.- Las precipitaciones en los ultimo 20 años observan un ligero descenso.\n",
    "3.\n",
    "Conclusiones\n",
    "En la elaboración de esta actividad me encontré con algunas dificultades, primero para\n",
    "bajar el archivo de inicio lo baje en un editor de texto y al querer hacer las modificaciones que\n",
    "se necesita hacer en el código no se ejecutaban, después de varios intentos y lograr establecer\n",
    "el archivo por fin logre realizar los primeros pasos del programa.\n",
    "Otra de las dificultades que encontré es al intentar cambiar la variable fecha y no se ejecutaba\n",
    "pues no estaba utilizando el comando adecuado, en esta parte es donde más tiempo perdí\n",
    "para finalmente finalizar la actividad.\n",
    "2"
   ]
  }
 ],
 "metadata": {
  "kernelspec": {
   "display_name": "Python 3",
   "language": "python",
   "name": "python3"
  },
  "language_info": {
   "codemirror_mode": {
    "name": "ipython",
    "version": 3
   },
   "file_extension": ".py",
   "mimetype": "text/x-python",
   "name": "python",
   "nbconvert_exporter": "python",
   "pygments_lexer": "ipython3",
   "version": "3.6.3"
  }
 },
 "nbformat": 4,
 "nbformat_minor": 2
}
